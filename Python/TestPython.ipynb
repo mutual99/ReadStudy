{
 "cells": [
  {
   "cell_type": "code",
   "execution_count": 57,
   "metadata": {},
   "outputs": [
    {
     "name": "stdout",
     "output_type": "stream",
     "text": [
      "1\n",
      "Hello World\n",
      "2\n",
      "1\n",
      "0.5\n",
      "8\n",
      "243\n",
      "3\n",
      "6\n",
      "Hello world\n",
      "HelloWorld\n",
      "1\n"
     ]
    }
   ],
   "source": [
    "print(1)\n",
    "print(\"Hello World\")\n",
    "print(1+1)\n",
    "print(2-1)\n",
    "print(2/4)\n",
    "print(2*4)\n",
    "print(3**5)\n",
    "print(3%5)\n",
    "print(3^5)\n",
    "print(\"Hello\", \"world\")\n",
    "print(\"Hello\" + \"World\")\n",
    "print(4%3)"
   ]
  },
  {
   "cell_type": "code",
   "execution_count": 17,
   "metadata": {},
   "outputs": [
    {
     "name": "stdout",
     "output_type": "stream",
     "text": [
      "3\n",
      "3\n",
      "3 Hello\n",
      "3Hello\n"
     ]
    }
   ],
   "source": [
    "a = 1\n",
    "b = 2\n",
    "c = \"Hello\"\n",
    "d = a + b\n",
    "print(a + b)\n",
    "print(d)\n",
    "print(str(d), c)\n",
    "print(str(d) + c)"
   ]
  },
  {
   "cell_type": "code",
   "execution_count": 20,
   "metadata": {},
   "outputs": [
    {
     "name": "stdout",
     "output_type": "stream",
     "text": [
      "정수1과 정수2가 같습니다.\n"
     ]
    }
   ],
   "source": [
    "num1 = input(\"정수1 입력 : \")\n",
    "num2 = input(\"정수2 입력 : \")\n",
    "\n",
    "# 조건문\n",
    "if num1 > num2:\n",
    "    print(\"정수1이 정수2보다 큽니다.\")\n",
    "elif num1 < num2:\n",
    "    print(\"정수2가 정수1보다 큽니다.\")\n",
    "else:\n",
    "    print(\"정수1과 정수2가 같습니다.\")"
   ]
  },
  {
   "cell_type": "code",
   "execution_count": 32,
   "metadata": {},
   "outputs": [
    {
     "name": "stdout",
     "output_type": "stream",
     "text": [
      "정수1과 정수2가 같습니다.\n"
     ]
    }
   ],
   "source": [
    "num1 = input(\"정수1 입력 : \")\n",
    "num2 = input(\"정수2 입력 : \")\n",
    "\n",
    "# 조건문\n",
    "if num1 > num2:\n",
    "    print(\"정수1인\", num1, \"이(가) 정수2인\", num2, \"보다 큽니다.\")\n",
    "elif num1 < num2:\n",
    "    print(\"정수2가 정수1보다 큽니다.\")\n",
    "else:\n",
    "    print(\"정수1과 정수2가 같습니다.\")"
   ]
  },
  {
   "cell_type": "code",
   "execution_count": 46,
   "metadata": {},
   "outputs": [
    {
     "name": "stdout",
     "output_type": "stream",
     "text": [
      "2024-06-13 03:00:59.595167\n",
      "2024 년\n",
      "6 월\n",
      "13 일\n",
      "3 시\n",
      "0 분\n",
      "59 초\n",
      "2024년 6월 13일 3시 0분 59초\n"
     ]
    }
   ],
   "source": [
    "#날짜 출력\n",
    "import datetime\n",
    "\n",
    "now = datetime.datetime.now()\n",
    "\n",
    "print(now)\n",
    "print(now.year, \"년\")\n",
    "print(now.month, \"월\")\n",
    "print(now.day, \"일\")\n",
    "print(now.hour, \"시\")\n",
    "print(now.minute, \"분\")\n",
    "print(now.second, \"초\")\n",
    "\n",
    "print(\"{}년 {}월 {}일 {}시 {}분 {}초\".format(\n",
    "    now.year,\n",
    "    now.month,\n",
    "    now.day,\n",
    "    now.hour,\n",
    "    now.minute,\n",
    "    now.second\n",
    "))"
   ]
  },
  {
   "cell_type": "code",
   "execution_count": 52,
   "metadata": {},
   "outputs": [
    {
     "name": "stdout",
     "output_type": "stream",
     "text": [
      "오전입니다.\n",
      "봄입니다.\n"
     ]
    }
   ],
   "source": [
    "import datetime\n",
    "\n",
    "now = datetime.datetime.now()\n",
    "\n",
    "# 오전, 오후 구분 조건문\n",
    "if now.hour < 12:\n",
    "    print(\"오전입니다.\")\n",
    "elif now.hour >= 12:\n",
    "    print(\"오후입니다.\")\n",
    "\n",
    "# 계절 구분 조건문\n",
    "if now.month == 3 or 4 or 5:\n",
    "    print(\"봄입니다.\")\n",
    "elif now.month == 6 or 7 or 8:\n",
    "    print(\"여름입니다.\")\n",
    "elif now.month == 9 or 10 or 11:\n",
    "    print(\"가을입니다.\")\n",
    "elif now.month == 12 or 1 or 2:\n",
    "    print(\"겨울입니다.\")"
   ]
  },
  {
   "cell_type": "code",
   "execution_count": 61,
   "metadata": {},
   "outputs": [
    {
     "name": "stdout",
     "output_type": "stream",
     "text": [
      "홀수입니다.\n"
     ]
    }
   ],
   "source": [
    "# 짝수, 홀수 구분\n",
    "num1 = input(\"정수 입력 > \")\n",
    "num1 = int(num1)\n",
    "\n",
    "if num1 % 2 == 1:\n",
    "    print(\"홀수입니다.\")\n",
    "elif num1 % 2 == 0:\n",
    "    print(\"짝수입니다.\")"
   ]
  },
  {
   "cell_type": "code",
   "execution_count": 82,
   "metadata": {},
   "outputs": [
    {
     "name": "stdout",
     "output_type": "stream",
     "text": [
      "현 체제의 수호자\n"
     ]
    }
   ],
   "source": [
    "# 점수 별 설명\n",
    "\n",
    "score = input(\"점수 입력 > \")\n",
    "score = float(score)\n",
    "\n",
    "if score >= 4.5:\n",
    "    print(\"신\")\n",
    "elif 4.2 <= score < 4.5:\n",
    "    print(\"교수님의 사랑\")\n",
    "elif 3.5 <= score < 4.2:\n",
    "    print(\"현 체제의 수호자\")     \n",
    "elif 2.8 <= score < 3.5:\n",
    "    print(\"일반인\")     \n",
    "elif 2.3 <= score < 2.8:\n",
    "    print(\"일탈을 꿈꾸는 소시민\")     "
   ]
  },
  {
   "cell_type": "code",
   "execution_count": 95,
   "metadata": {},
   "outputs": [
    {
     "name": "stdout",
     "output_type": "stream",
     "text": [
      "[273, 32, 103, '문자열', True, False]\n",
      "['바뀐 문자', 32, 103, '문자열', True, False]\n"
     ]
    }
   ],
   "source": [
    "# 반복문\n",
    "array = [273, 32, 103, \"문자열\", True, False]\n",
    "print(array)\n",
    "array[0]    # 273\n",
    "array[0] = \"바뀐 문자\"\n",
    "array[0]    # '바뀐문자'\n",
    "print(array)"
   ]
  },
  {
   "cell_type": "code",
   "execution_count": 100,
   "metadata": {},
   "outputs": [
    {
     "name": "stdout",
     "output_type": "stream",
     "text": [
      "[[1, 2, 3], [4, 5, 6], [7, 8, 9]]\n",
      "[4, 5, 6]\n",
      "5\n"
     ]
    }
   ],
   "source": [
    "list_a = [[1,2,3], [4,5,6], [7,8,9]]\n",
    "\n",
    "print(list_a)\n",
    "print(list_a[1])\n",
    "print(list_a[1][1])"
   ]
  },
  {
   "cell_type": "code",
   "execution_count": 111,
   "metadata": {},
   "outputs": [
    {
     "name": "stdout",
     "output_type": "stream",
     "text": [
      "# 리스트\n",
      "list_a = [1, 2, 3]\n",
      "list_b = [4, 5, 6]\n",
      "\n",
      "# 리스트 기본 연산자\n",
      "list_a + list_b = [1, 2, 3, 4, 5, 6]\n",
      "list_a * 2 = [1, 2, 3, 1, 2, 3]\n",
      "\n",
      "# 길이 구하기\n",
      "len(list_a) = 3\n"
     ]
    }
   ],
   "source": [
    "# 리스트를 선언\n",
    "list_a = [1,2,3]\n",
    "list_b = [4,5,6]\n",
    "\n",
    "# 출력\n",
    "print(\"# 리스트\")\n",
    "print(\"list_a =\", list_a)\n",
    "print(\"list_b =\", list_b)\n",
    "print()\n",
    "\n",
    "print(\"# 리스트 기본 연산자\")\n",
    "print(\"list_a + list_b =\", list_a + list_b)\n",
    "print(\"list_a * 2 =\", list_a * 2)\n",
    "print()\n",
    "\n",
    "print(\"# 길이 구하기\")\n",
    "print(\"len(list_a) =\", len(list_a))"
   ]
  },
  {
   "cell_type": "code",
   "execution_count": 123,
   "metadata": {},
   "outputs": [
    {
     "name": "stdout",
     "output_type": "stream",
     "text": [
      "[1, 2, 3]\n",
      "\n",
      "# 리스트 뒤에 요소 추가하기\n",
      "[1, 2, 3, 4, 5, 4]\n",
      "\n",
      "# 리스트 중간에 요소 추가하기\n",
      "[10, 20, 1, 2, 3, 4, 5, 4]\n"
     ]
    }
   ],
   "source": [
    "# 리스트 선언\n",
    "list_a = [1,2,3]\n",
    "print(list_a)\n",
    "print()\n",
    "\n",
    "# 리스트에 요소 추가하기\n",
    "print(\"# 리스트 뒤에 요소 추가하기\")\n",
    "list_a.append(4)\n",
    "list_a.append(5)\n",
    "list_a.append(4)\n",
    "print(list_a)\n",
    "print()\n",
    "\n",
    "# 리스트 중간에 요소 추가하기\n",
    "print(\"# 리스트 중간에 요소 추가하기\")\n",
    "list_a.insert(0, 10)\n",
    "list_a.insert(1, 20)\n",
    "print(list_a)"
   ]
  },
  {
   "cell_type": "code",
   "execution_count": 132,
   "metadata": {},
   "outputs": [
    {
     "name": "stdout",
     "output_type": "stream",
     "text": [
      "del list[1] = [1, 3, 4]\n",
      "\n",
      "list.pop(2) = [1, 3]\n",
      "\n"
     ]
    }
   ],
   "source": [
    "# 리스트 선언\n",
    "list = [1, 2, 3, 4]\n",
    "\n",
    "# 리스트 제거 방법 1\n",
    "del list[1]\n",
    "print(\"del list[1] =\", list)\n",
    "print()\n",
    "\n",
    "# 리스트 제거 방법 2\n",
    "list.pop(2)\n",
    "print(\"list.pop(2) =\", list)\n",
    "print()"
   ]
  },
  {
   "cell_type": "code",
   "execution_count": 133,
   "metadata": {},
   "outputs": [
    {
     "name": "stdout",
     "output_type": "stream",
     "text": [
      "[1, 2, 3, 7, 8, 9]\n"
     ]
    }
   ],
   "source": [
    "list = [1,2,3,4,5,6,7,8,9]\n",
    "\n",
    "del list[3:6]\n",
    "print(list)"
   ]
  },
  {
   "cell_type": "code",
   "execution_count": 135,
   "metadata": {},
   "outputs": [
    {
     "name": "stdout",
     "output_type": "stream",
     "text": [
      "[4, 5, 6, 7, 8, 9]\n"
     ]
    }
   ],
   "source": [
    "list = [1,2,3,4,5,6,7,8,9]\n",
    "\n",
    "del list[:3]\n",
    "print(list)"
   ]
  },
  {
   "cell_type": "code",
   "execution_count": 136,
   "metadata": {},
   "outputs": [
    {
     "name": "stdout",
     "output_type": "stream",
     "text": [
      "[1, 2, 3, 4]\n"
     ]
    }
   ],
   "source": [
    "list = [1,2,3,4,5,6,7,8,9]\n",
    "\n",
    "del list[4:]\n",
    "print(list)"
   ]
  },
  {
   "cell_type": "code",
   "execution_count": 4,
   "metadata": {},
   "outputs": [
    {
     "name": "stdout",
     "output_type": "stream",
     "text": [
      "[1, 2, 3, 4, 5, 6, 7, 8, 9]\n",
      "[]\n",
      "[1, 2, 3, 4, 5, 6, 7, 8, 9]\n",
      "[9, 8, 7, 6, 5, 4, 3, 2, 1]\n"
     ]
    }
   ],
   "source": [
    "# 리스트 전체 삭제\n",
    "list = [1,2,3,4,5,6,7,8,9]\n",
    "print(list)\n",
    "\n",
    "list.clear()\n",
    "print(list)\n",
    "\n",
    "# 리스트 정렬\n",
    "list = [1,2,3,4,5,6,7,8,9]\n",
    "list.sort() #   오름차순 정렬\n",
    "print(list)\n",
    "\n",
    "list.sort(reverse=True) #   내림차순 정렬\n",
    "print(list)"
   ]
  },
  {
   "cell_type": "code",
   "execution_count": 12,
   "metadata": {},
   "outputs": [
    {
     "data": {
      "text/plain": [
       "True"
      ]
     },
     "execution_count": 12,
     "metadata": {},
     "output_type": "execute_result"
    }
   ],
   "source": [
    "# 리스트 내부에 값이 있는지 확인 (in)\n",
    "list = [1,2,3,4,5,6,7,8,9]\n",
    "9 in list   # true\n",
    "99 in list  # false\n",
    "\n",
    "# 리스트 내부에 값이 있는지 확인 (not in)\n",
    "9 not in list   # false\n",
    "99 not in list  # true"
   ]
  },
  {
   "cell_type": "code",
   "execution_count": 16,
   "metadata": {},
   "outputs": [
    {
     "name": "stdout",
     "output_type": "stream",
     "text": [
      "출력 0\n",
      "출력 1\n",
      "출력 2\n",
      "출력 3\n",
      "출력 4\n",
      "출력 5\n",
      "출력 6\n",
      "출력 7\n",
      "출력 8\n",
      "출력 9\n",
      "- 안\n",
      "- 녕\n",
      "- 하\n",
      "- 세\n",
      "- 요\n"
     ]
    }
   ],
   "source": [
    "# 반복문\n",
    "for i in range(10):\n",
    "    print(\"출력\", i)\n",
    "\n",
    "for text in \"안녕하세요\":\n",
    "    print(\"-\", text)"
   ]
  },
  {
   "cell_type": "code",
   "execution_count": 20,
   "metadata": {},
   "outputs": [
    {
     "name": "stdout",
     "output_type": "stream",
     "text": [
      "list_of_list = [[1, 2, 3], [4, 5], [6, 7, 8, 9]]\n",
      "[1, 2, 3]\n",
      "[4, 5]\n",
      "[6, 7, 8, 9]\n"
     ]
    }
   ],
   "source": [
    "list_of_list = [\n",
    "    [1,2,3],\n",
    "    [4,5],\n",
    "    [6,7,8,9]\n",
    "]\n",
    "print(\"list_of_list =\", list_of_list)\n",
    "\n",
    "for item in list_of_list:\n",
    "    print(item)"
   ]
  },
  {
   "cell_type": "code",
   "execution_count": 22,
   "metadata": {},
   "outputs": [
    {
     "name": "stdout",
     "output_type": "stream",
     "text": [
      "[1, 2, 3]\n",
      "[1, 2, 3]\n",
      "[1, 2, 3]\n",
      "[4, 5]\n",
      "[4, 5]\n",
      "[6, 7, 8, 9]\n",
      "[6, 7, 8, 9]\n",
      "[6, 7, 8, 9]\n",
      "[6, 7, 8, 9]\n"
     ]
    }
   ],
   "source": [
    "list_of_list = [\n",
    "    [1,2,3],\n",
    "    [4,5],\n",
    "    [6,7,8,9]\n",
    "]\n",
    "\n",
    "for items in list_of_list:\n",
    "    for item in items:\n",
    "        print(items)"
   ]
  },
  {
   "cell_type": "code",
   "execution_count": 31,
   "metadata": {},
   "outputs": [
    {
     "name": "stdout",
     "output_type": "stream",
     "text": [
      "[1, 2, 3, 4, 1, 2, 3, 4]\n",
      "[1, 2, 3, 4, 5]\n",
      "[1, 2, 3, 4, 5]\n",
      "1 2 3 4\n"
     ]
    }
   ],
   "source": [
    "a = [1,2,3,4]\n",
    "b = [*a, *a]\n",
    "print(b)\n",
    "\n",
    "# append를 사용한 경우\n",
    "a.append(5)\n",
    "print(a)\n",
    "\n",
    "# 전개 연산자를 사용한 경우\n",
    "c = [1,2,3,4]\n",
    "d = [*c, 5] \n",
    "print(d)\n",
    "\n",
    "e = [1,2,3,4]\n",
    "print(*e)   # 하나하나 입력되는 것처럼 출력"
   ]
  },
  {
   "cell_type": "code",
   "execution_count": 1,
   "metadata": {},
   "outputs": [
    {
     "name": "stdout",
     "output_type": "stream",
     "text": [
      "[0, 1, 2, 3, 4, 5, 6, 7, 8, 9, 0, 1, 2, 3, 4, 5, 6, 7, 8, 9]\n"
     ]
    }
   ],
   "source": [
    "list = [0,1,2,3,4,5,6,7,8,9]\n",
    "list.extend(list)\n",
    "print(list)"
   ]
  }
 ],
 "metadata": {
  "kernelspec": {
   "display_name": "Python 3",
   "language": "python",
   "name": "python3"
  },
  "language_info": {
   "codemirror_mode": {
    "name": "ipython",
    "version": 3
   },
   "file_extension": ".py",
   "mimetype": "text/x-python",
   "name": "python",
   "nbconvert_exporter": "python",
   "pygments_lexer": "ipython3",
   "version": "3.12.3"
  }
 },
 "nbformat": 4,
 "nbformat_minor": 2
}
